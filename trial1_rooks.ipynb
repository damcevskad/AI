{
 "cells": [
  {
   "cell_type": "code",
   "execution_count": 2,
   "metadata": {},
   "outputs": [
    {
     "ename": "ModuleNotFoundError",
     "evalue": "No module named 'search'",
     "output_type": "error",
     "traceback": [
      "\u001b[0;31m---------------------------------------------------------------------------\u001b[0m",
      "\u001b[0;31mModuleNotFoundError\u001b[0m                       Traceback (most recent call last)",
      "Cell \u001b[0;32mIn[2], line 1\u001b[0m\n\u001b[0;32m----> 1\u001b[0m \u001b[38;5;28;01mfrom\u001b[39;00m \u001b[38;5;21;01msearch\u001b[39;00m \u001b[38;5;28;01mimport\u001b[39;00m Problem, depth_first_tree_search\n",
      "\u001b[0;31mModuleNotFoundError\u001b[0m: No module named 'search'"
     ]
    }
   ],
   "source": [
    "from search import Problem, depth_first_tree_search"
   ]
  },
  {
   "cell_type": "code",
   "execution_count": 6,
   "metadata": {},
   "outputs": [],
   "source": [
    "class Rooks8x8(Problem):\n",
    "    def __init__(self):\n",
    "       self.initial = tuple([-1] * 8)\n",
    "       Problem.__init__(self, self.initial)\n",
    "\n",
    "    def actions(self, state):\n",
    "        col = state.index(-1)\n",
    "        return [(row, col) for row in range(8) \n",
    "                if not self.conflicted(state, row, col)]\n",
    "\n",
    "    def result(self, state, action):\n",
    "        new_state = list(state)\n",
    "        new_state[action[1]] = action[0] \n",
    "        return tuple(new_state)\n",
    "\n",
    "    def conflicted(self, state, row, col):\n",
    "        return any(state[c] == row or c == col for c in range(8))\n",
    "    \n",
    "    def goal_test(self, state):\n",
    "        return -1 not in state"
   ]
  },
  {
   "cell_type": "code",
   "execution_count": 8,
   "metadata": {},
   "outputs": [
    {
     "name": "stdout",
     "output_type": "stream",
     "text": [
      "No solution founsd.\n"
     ]
    }
   ],
   "source": [
    "if __name__ == \"__main__\":\n",
    "    r = Rooks8x8()\n",
    "    result = depth_first_tree_search(r)\n",
    "    if result is not None:\n",
    "        print(\"\\nDepth First Search Solution:\")\n",
    "        print(result.solution())\n",
    "    else:\n",
    "        print(\"No solution found.\")"
   ]
  }
 ],
 "metadata": {
  "kernelspec": {
   "display_name": "Python 3",
   "language": "python",
   "name": "python3"
  },
  "language_info": {
   "codemirror_mode": {
    "name": "ipython",
    "version": 3
   },
   "file_extension": ".py",
   "mimetype": "text/x-python",
   "name": "python",
   "nbconvert_exporter": "python",
   "pygments_lexer": "ipython3",
   "version": "3.11.4"
  }
 },
 "nbformat": 4,
 "nbformat_minor": 2
}
