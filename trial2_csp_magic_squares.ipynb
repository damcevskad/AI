{
 "cells": [
  {
   "cell_type": "code",
   "execution_count": 1,
   "metadata": {},
   "outputs": [],
   "source": [
    "from constraint import Problem"
   ]
  },
  {
   "cell_type": "code",
   "execution_count": 2,
   "metadata": {},
   "outputs": [],
   "source": [
    "problem = Problem()\n",
    "\n",
    "cells = range(1, 17)\n",
    "\n",
    "for cell in cells:\n",
    "    problem.addVariable(cell, range(1, 17))\n",
    "\n",
    "for cell1 in cells:\n",
    "    for cell2 in cells:\n",
    "        if cell1 != cell2:\n",
    "            problem.addConstraint(lambda x, y: x != y, (cell1, cell2))"
   ]
  },
  {
   "cell_type": "code",
   "execution_count": 4,
   "metadata": {},
   "outputs": [],
   "source": [
    "for row in range(1, 5):\n",
    "    problem.addConstraint(lambda a, b, c, d: a + b + c + d == 34, (row, row + 4, row + 8, row + 12))\n",
    "\n",
    "for col in range(1, 5):\n",
    "    problem.addConstraint(lambda a, b, c, d: a + b + c + d == 34, (col, col + 4 * 1, col + 4 * 2, col + 4 * 3))\n",
    "\n",
    "\n",
    "problem.addConstraint(lambda a, b, c, d: a + b + c + d == 34, (1, 6, 11, 16))\n",
    "problem.addConstraint(lambda a, b, c, d: a + b + c + d == 34, (4, 7, 10, 13))"
   ]
  },
  {
   "cell_type": "code",
   "execution_count": 6,
   "metadata": {},
   "outputs": [
    {
     "ename": "KeyboardInterrupt",
     "evalue": "",
     "output_type": "error",
     "traceback": [
      "\u001b[0;31m---------------------------------------------------------------------------\u001b[0m",
      "\u001b[0;31mKeyboardInterrupt\u001b[0m                         Traceback (most recent call last)",
      "Cell \u001b[0;32mIn[6], line 1\u001b[0m\n\u001b[0;32m----> 1\u001b[0m solutions \u001b[38;5;241m=\u001b[39m problem\u001b[38;5;241m.\u001b[39mgetSolutions()\n\u001b[1;32m      3\u001b[0m \u001b[38;5;28;01mif\u001b[39;00m solutions:\n\u001b[1;32m      4\u001b[0m     \u001b[38;5;28;01mfor\u001b[39;00m solution \u001b[38;5;129;01min\u001b[39;00m solutions:\n",
      "File \u001b[0;32m~/anaconda3/lib/python3.11/site-packages/constraint/__init__.py:271\u001b[0m, in \u001b[0;36mProblem.getSolutions\u001b[0;34m(self)\u001b[0m\n\u001b[1;32m    269\u001b[0m \u001b[38;5;28;01mif\u001b[39;00m \u001b[38;5;129;01mnot\u001b[39;00m domains:\n\u001b[1;32m    270\u001b[0m     \u001b[38;5;28;01mreturn\u001b[39;00m []\n\u001b[0;32m--> 271\u001b[0m \u001b[38;5;28;01mreturn\u001b[39;00m \u001b[38;5;28mself\u001b[39m\u001b[38;5;241m.\u001b[39m_solver\u001b[38;5;241m.\u001b[39mgetSolutions(domains, constraints, vconstraints)\n",
      "File \u001b[0;32m~/anaconda3/lib/python3.11/site-packages/constraint/__init__.py:567\u001b[0m, in \u001b[0;36mBacktrackingSolver.getSolutions\u001b[0;34m(self, domains, constraints, vconstraints)\u001b[0m\n\u001b[1;32m    566\u001b[0m \u001b[38;5;28;01mdef\u001b[39;00m \u001b[38;5;21mgetSolutions\u001b[39m(\u001b[38;5;28mself\u001b[39m, domains, constraints, vconstraints):\n\u001b[0;32m--> 567\u001b[0m     \u001b[38;5;28;01mreturn\u001b[39;00m \u001b[38;5;28mlist\u001b[39m(\u001b[38;5;28mself\u001b[39m\u001b[38;5;241m.\u001b[39mgetSolutionIter(domains, constraints, vconstraints))\n",
      "File \u001b[0;32m~/anaconda3/lib/python3.11/site-packages/constraint/__init__.py:544\u001b[0m, in \u001b[0;36mBacktrackingSolver.getSolutionIter\u001b[0;34m(self, domains, constraints, vconstraints)\u001b[0m\n\u001b[1;32m    541\u001b[0m         domain\u001b[38;5;241m.\u001b[39mpushState()\n\u001b[1;32m    543\u001b[0m \u001b[38;5;28;01mfor\u001b[39;00m constraint, variables \u001b[38;5;129;01min\u001b[39;00m vconstraints[variable]:\n\u001b[0;32m--> 544\u001b[0m     \u001b[38;5;28;01mif\u001b[39;00m \u001b[38;5;129;01mnot\u001b[39;00m constraint(variables, domains, assignments, pushdomains):\n\u001b[1;32m    545\u001b[0m         \u001b[38;5;66;03m# Value is not good.\u001b[39;00m\n\u001b[1;32m    546\u001b[0m         \u001b[38;5;28;01mbreak\u001b[39;00m\n\u001b[1;32m    547\u001b[0m \u001b[38;5;28;01melse\u001b[39;00m:\n",
      "File \u001b[0;32m~/anaconda3/lib/python3.11/site-packages/constraint/__init__.py:991\u001b[0m, in \u001b[0;36mFunctionConstraint.__call__\u001b[0;34m(self, variables, domains, assignments, forwardcheck, _unassigned)\u001b[0m\n\u001b[1;32m    986\u001b[0m missing \u001b[38;5;241m=\u001b[39m parms\u001b[38;5;241m.\u001b[39mcount(_unassigned)\n\u001b[1;32m    987\u001b[0m \u001b[38;5;28;01mif\u001b[39;00m missing:\n\u001b[1;32m    988\u001b[0m     \u001b[38;5;28;01mreturn\u001b[39;00m (\u001b[38;5;28mself\u001b[39m\u001b[38;5;241m.\u001b[39m_assigned \u001b[38;5;129;01mor\u001b[39;00m \u001b[38;5;28mself\u001b[39m\u001b[38;5;241m.\u001b[39m_func(\u001b[38;5;241m*\u001b[39mparms)) \u001b[38;5;129;01mand\u001b[39;00m (\n\u001b[1;32m    989\u001b[0m         \u001b[38;5;129;01mnot\u001b[39;00m forwardcheck \u001b[38;5;129;01mor\u001b[39;00m\n\u001b[1;32m    990\u001b[0m         missing \u001b[38;5;241m!=\u001b[39m \u001b[38;5;241m1\u001b[39m \u001b[38;5;129;01mor\u001b[39;00m\n\u001b[0;32m--> 991\u001b[0m         \u001b[38;5;28mself\u001b[39m\u001b[38;5;241m.\u001b[39mforwardCheck(variables, domains, assignments)\n\u001b[1;32m    992\u001b[0m     )\n\u001b[1;32m    993\u001b[0m \u001b[38;5;28;01mreturn\u001b[39;00m \u001b[38;5;28mself\u001b[39m\u001b[38;5;241m.\u001b[39m_func(\u001b[38;5;241m*\u001b[39mparms)\n",
      "File \u001b[0;32m~/anaconda3/lib/python3.11/site-packages/constraint/__init__.py:935\u001b[0m, in \u001b[0;36mConstraint.forwardCheck\u001b[0;34m(self, variables, domains, assignments, _unassigned)\u001b[0m\n\u001b[1;32m    933\u001b[0m \u001b[38;5;28;01mfor\u001b[39;00m value \u001b[38;5;129;01min\u001b[39;00m domain[:]:\n\u001b[1;32m    934\u001b[0m     assignments[unassignedvariable] \u001b[38;5;241m=\u001b[39m value\n\u001b[0;32m--> 935\u001b[0m     \u001b[38;5;28;01mif\u001b[39;00m \u001b[38;5;129;01mnot\u001b[39;00m \u001b[38;5;28mself\u001b[39m(variables, domains, assignments):\n\u001b[1;32m    936\u001b[0m         domain\u001b[38;5;241m.\u001b[39mhideValue(value)\n\u001b[1;32m    937\u001b[0m \u001b[38;5;28;01mdel\u001b[39;00m assignments[unassignedvariable]\n",
      "File \u001b[0;32m~/anaconda3/lib/python3.11/site-packages/constraint/__init__.py:986\u001b[0m, in \u001b[0;36mFunctionConstraint.__call__\u001b[0;34m(self, variables, domains, assignments, forwardcheck, _unassigned)\u001b[0m\n\u001b[1;32m    977\u001b[0m \u001b[38;5;28;01mdef\u001b[39;00m \u001b[38;5;21m__call__\u001b[39m(\n\u001b[1;32m    978\u001b[0m     \u001b[38;5;28mself\u001b[39m,\n\u001b[1;32m    979\u001b[0m     variables,\n\u001b[0;32m   (...)\u001b[0m\n\u001b[1;32m    983\u001b[0m     _unassigned\u001b[38;5;241m=\u001b[39mUnassigned,\n\u001b[1;32m    984\u001b[0m ):\n\u001b[1;32m    985\u001b[0m     parms \u001b[38;5;241m=\u001b[39m [assignments\u001b[38;5;241m.\u001b[39mget(x, _unassigned) \u001b[38;5;28;01mfor\u001b[39;00m x \u001b[38;5;129;01min\u001b[39;00m variables]\n\u001b[0;32m--> 986\u001b[0m     missing \u001b[38;5;241m=\u001b[39m parms\u001b[38;5;241m.\u001b[39mcount(_unassigned)\n\u001b[1;32m    987\u001b[0m     \u001b[38;5;28;01mif\u001b[39;00m missing:\n\u001b[1;32m    988\u001b[0m         \u001b[38;5;28;01mreturn\u001b[39;00m (\u001b[38;5;28mself\u001b[39m\u001b[38;5;241m.\u001b[39m_assigned \u001b[38;5;129;01mor\u001b[39;00m \u001b[38;5;28mself\u001b[39m\u001b[38;5;241m.\u001b[39m_func(\u001b[38;5;241m*\u001b[39mparms)) \u001b[38;5;129;01mand\u001b[39;00m (\n\u001b[1;32m    989\u001b[0m             \u001b[38;5;129;01mnot\u001b[39;00m forwardcheck \u001b[38;5;129;01mor\u001b[39;00m\n\u001b[1;32m    990\u001b[0m             missing \u001b[38;5;241m!=\u001b[39m \u001b[38;5;241m1\u001b[39m \u001b[38;5;129;01mor\u001b[39;00m\n\u001b[1;32m    991\u001b[0m             \u001b[38;5;28mself\u001b[39m\u001b[38;5;241m.\u001b[39mforwardCheck(variables, domains, assignments)\n\u001b[1;32m    992\u001b[0m         )\n",
      "\u001b[0;31mKeyboardInterrupt\u001b[0m: "
     ]
    }
   ],
   "source": [
    "solutions = problem.getSolutions()\n",
    "\n",
    "if solutions:\n",
    "    for solution in solutions:\n",
    "        print(solution)\n",
    "else:\n",
    "    print(\"No solution found\")\n"
   ]
  }
 ],
 "metadata": {
  "kernelspec": {
   "display_name": "Python 3",
   "language": "python",
   "name": "python3"
  },
  "language_info": {
   "codemirror_mode": {
    "name": "ipython",
    "version": 3
   },
   "file_extension": ".py",
   "mimetype": "text/x-python",
   "name": "python",
   "nbconvert_exporter": "python",
   "pygments_lexer": "ipython3",
   "version": "3.11.5"
  }
 },
 "nbformat": 4,
 "nbformat_minor": 2
}
